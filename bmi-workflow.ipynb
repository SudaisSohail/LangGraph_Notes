{
 "cells": [
  {
   "cell_type": "code",
   "execution_count": 1,
   "id": "06e12e8f",
   "metadata": {},
   "outputs": [],
   "source": [
    "from langgraph.graph import StateGraph, START, END\n",
    "from typing import TypedDict"
   ]
  },
  {
   "cell_type": "code",
   "execution_count": 2,
   "id": "0eac412a",
   "metadata": {},
   "outputs": [],
   "source": [
    "class BMIInput(TypedDict):\n",
    "    weight: float  # in kilograms\n",
    "    height: float  # in meters\n",
    "    bmi: float  # Body Mass Index\n",
    "    category: str  # BMI category"
   ]
  },
  {
   "cell_type": "code",
   "execution_count": 9,
   "id": "4ea11191",
   "metadata": {},
   "outputs": [],
   "source": [
    "def calculate_bmi(state: BMIInput):\n",
    "\n",
    "    bmi = state['weight'] / (state['height'] ** 2)\n",
    "\n",
    "    return {\"bmi\":bmi}\n",
    "\n",
    "def determine_category(state: BMIInput):\n",
    "    bmi = state['bmi']\n",
    "\n",
    "    if bmi < 18.5:\n",
    "        category = \"Underweight\"\n",
    "    elif 18.5 <= bmi < 25:\n",
    "        category = \"Normal\"\n",
    "    elif 25 <= bmi < 30:\n",
    "        category = \"Overweight\"\n",
    "    else:\n",
    "        category = \"Obese\"\n",
    "\n",
    "    return {\"category\": category}"
   ]
  },
  {
   "cell_type": "code",
   "execution_count": 10,
   "id": "887fd63e",
   "metadata": {},
   "outputs": [],
   "source": [
    "graph = StateGraph(BMIInput)\n",
    "\n",
    "graph.add_node(\"calculate_bmi\", calculate_bmi)\n",
    "graph.add_node(\"determine_category\", determine_category)\n",
    "\n",
    "graph.add_edge(START, \"calculate_bmi\")\n",
    "graph.add_edge(\"calculate_bmi\", \"determine_category\")\n",
    "graph.add_edge(\"determine_category\", END)\n",
    "\n",
    "workflow = graph.compile()"
   ]
  },
  {
   "cell_type": "code",
   "execution_count": 11,
   "id": "4ff57a41",
   "metadata": {},
   "outputs": [
    {
     "name": "stdout",
     "output_type": "stream",
     "text": [
      "{'weight': 62, 'height': 1.63, 'bmi': 23.335466144755166, 'category': 'Normal'}\n"
     ]
    }
   ],
   "source": [
    "initial_state = {\n",
    "    'weight':62,\n",
    "    \"height\":1.63\n",
    "}\n",
    "\n",
    "final_state = workflow.invoke(initial_state)\n",
    "\n",
    "print(final_state)"
   ]
  }
 ],
 "metadata": {
  "kernelspec": {
   "display_name": "langgraph_venv",
   "language": "python",
   "name": "python3"
  },
  "language_info": {
   "codemirror_mode": {
    "name": "ipython",
    "version": 3
   },
   "file_extension": ".py",
   "mimetype": "text/x-python",
   "name": "python",
   "nbconvert_exporter": "python",
   "pygments_lexer": "ipython3",
   "version": "3.13.5"
  }
 },
 "nbformat": 4,
 "nbformat_minor": 5
}
